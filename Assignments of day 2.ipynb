{
 "cells": [
  {
   "cell_type": "markdown",
   "id": "e324aced",
   "metadata": {},
   "source": [
    "# Q 1:\tWrite a Python program to reverse a string without using any built-in string reversal functions."
   ]
  },
  {
   "cell_type": "code",
   "execution_count": 3,
   "id": "ce309cf5",
   "metadata": {},
   "outputs": [
    {
     "name": "stdout",
     "output_type": "stream",
     "text": [
      "The original string is : Ans of first question\n",
      "The reversed string(using extended slice syntax) is : noitseuq tsrif fo snA\n"
     ]
    }
   ],
   "source": [
    "# Function to reverse a string\n",
    "def reverse(string):\n",
    "    string = string[::-1]\n",
    "    return string\n",
    "\n",
    "s = \"Ans of first question\"\n",
    "\n",
    "print(\"The original string is : \", end=\"\")\n",
    "print(s)\n",
    "\n",
    "print(\"The reversed string(using extended slice syntax) is : \", end=\"\")\n",
    "print(reverse(s))"
   ]
  },
  {
   "cell_type": "markdown",
   "id": "f8aa9649",
   "metadata": {},
   "source": [
    "# Q 2: Implement a function to check if a given string is a palindrome."
   ]
  },
  {
   "cell_type": "code",
   "execution_count": 4,
   "id": "f07292f0",
   "metadata": {},
   "outputs": [
    {
     "name": "stdout",
     "output_type": "stream",
     "text": [
      "Yes\n"
     ]
    }
   ],
   "source": [
    "# function which return reverse of a string\n",
    "def isPalindrome(s):\n",
    "    return s == s[::-1]\n",
    "\n",
    "s = \"deified\"\n",
    "ans = isPalindrome(s)\n",
    "\n",
    "if ans:\n",
    "    print(\"Yes\")\n",
    "else:\n",
    "    print(\"No\")\n"
   ]
  },
  {
   "cell_type": "markdown",
   "id": "e0c0ad06",
   "metadata": {},
   "source": [
    "# Q 3: Write a program to find the largest element in a given list."
   ]
  },
  {
   "cell_type": "code",
   "execution_count": 6,
   "id": "5c881911",
   "metadata": {},
   "outputs": [
    {
     "name": "stdout",
     "output_type": "stream",
     "text": [
      "Largest element is: 105\n"
     ]
    }
   ],
   "source": [
    "# Python program to find largest number in a list\n",
    "\n",
    "\n",
    "def myMax(list1):\n",
    "    max = list1[0]\n",
    "    \n",
    "    for x in list1:\n",
    "        if x > max:\n",
    "            max = x\n",
    "    return max\n",
    "\n",
    "list1 = [22, 65, 4, 45, 99, 105]\n",
    "print(\"Largest element is:\", myMax(list1))\n"
   ]
  },
  {
   "cell_type": "markdown",
   "id": "446ae541",
   "metadata": {},
   "source": [
    "# Q 4: Implement a function to count the occurrence of each element in a list."
   ]
  },
  {
   "cell_type": "code",
   "execution_count": 12,
   "id": "d45919d8",
   "metadata": {},
   "outputs": [
    {
     "name": "stdout",
     "output_type": "stream",
     "text": [
      "5 has occurred 4 times\n"
     ]
    }
   ],
   "source": [
    "# Python code to count the number of occurrences\n",
    "def countX(list2, x):\n",
    "    count = 0\n",
    "    for element in list2:\n",
    "        if (element == x):\n",
    "            count = count + 1\n",
    "    return count\n",
    "\n",
    "list2 = [7, 5, 5, 9, 10, 5, 7, 15, 26, 5]\n",
    "x = 5\n",
    "print('{} has occurred {} times'.format(x, countX(list2, x)))\n"
   ]
  },
  {
   "cell_type": "markdown",
   "id": "c88c9ee5",
   "metadata": {},
   "source": [
    "# Q 5: Write a Python program to find the second largest number in a list."
   ]
  },
  {
   "cell_type": "code",
   "execution_count": 13,
   "id": "bfee7c27",
   "metadata": {},
   "outputs": [
    {
     "name": "stdout",
     "output_type": "stream",
     "text": [
      "Second largest element is: 97\n"
     ]
    }
   ],
   "source": [
    "# Python program to find largest number in a list\n",
    "\n",
    "# List of numbers\n",
    "list1 = [15, 15, 20, 10, 45, 46, 100, 85, 97, 45]\n",
    "\n",
    "# Removing duplicates from the list\n",
    "list2 = list(set(list1))\n",
    "\n",
    "# Sorting the list\n",
    "list2.sort()\n",
    "\n",
    "# Printing the second last element\n",
    "print(\"Second largest element is:\", list2[-2])"
   ]
  },
  {
   "cell_type": "markdown",
   "id": "aa6c4cd6",
   "metadata": {},
   "source": [
    "# Q 6: Implement a function to remove duplicate elements from a list."
   ]
  },
  {
   "cell_type": "code",
   "execution_count": 30,
   "id": "419a7d93",
   "metadata": {},
   "outputs": [
    {
     "name": "stdout",
     "output_type": "stream",
     "text": [
      "After removing dublicate :  [5, 7, 10, 8, 11]\n"
     ]
    }
   ],
   "source": [
    "# Python code to remove duplicate elements\n",
    "def Remove(duplicate):\n",
    "    final_list = []\n",
    "    for num in duplicate:\n",
    "        if num not in final_list:\n",
    "            final_list.append(num)\n",
    "    return final_list\n",
    "     \n",
    "duplicate = [5, 5, 7, 10, 7, 8, 10, 11]\n",
    "print('After removing dublicate : ' ,Remove(duplicate))"
   ]
  },
  {
   "cell_type": "markdown",
   "id": "fad9de93",
   "metadata": {},
   "source": [
    "# Q 7: Write a program to calculate the factorial of a given number."
   ]
  },
  {
   "cell_type": "code",
   "execution_count": 37,
   "id": "18ed0687",
   "metadata": {},
   "outputs": [
    {
     "name": "stdout",
     "output_type": "stream",
     "text": [
      "Enter Your Number 7\n",
      "Factorial of 7 is 5040\n"
     ]
    }
   ],
   "source": [
    "# factorial of given number\n",
    "def factorial(n):\n",
    "    if n < 0:\n",
    "        return 0\n",
    "    elif n == 0 or n == 1:\n",
    "        return 1\n",
    "    else:\n",
    "        fact = 1\n",
    "        while(n > 1):\n",
    "            fact *= n\n",
    "            n -= 1\n",
    "        return fact\n",
    "\n",
    "num = int(input(\"Enter Your Number \"))\n",
    "print(\"Factorial of\",num,\"is\", factorial(num))"
   ]
  },
  {
   "cell_type": "markdown",
   "id": "33ada557",
   "metadata": {},
   "source": [
    "# Q 8: Implement a function to check if a given number is prime."
   ]
  },
  {
   "cell_type": "code",
   "execution_count": 124,
   "id": "a3383f82",
   "metadata": {},
   "outputs": [
    {
     "name": "stdout",
     "output_type": "stream",
     "text": [
      "Type your number to check : 7\n",
      "7 is prime.\n"
     ]
    }
   ],
   "source": [
    "# To check if given number is prime number or not.\n",
    "def is_prime(number):\n",
    "    if number < 2:\n",
    "        return False\n",
    "    \n",
    "    for i in range(2, number):\n",
    "        if number % i == 0:\n",
    "            return False\n",
    "    \n",
    "    return True\n",
    "\n",
    "number = int(input('Type your number to check : '))\n",
    "if is_prime(number):\n",
    "    print(f\"{number} is prime.\")\n",
    "else:\n",
    "    print(f\"{number} is not prime.\")\n"
   ]
  },
  {
   "cell_type": "markdown",
   "id": "89e1fc91",
   "metadata": {},
   "source": [
    "# Q 9: Write a Python program to sort a list of integers in ascending order."
   ]
  },
  {
   "cell_type": "code",
   "execution_count": 125,
   "id": "25f9a9fa",
   "metadata": {},
   "outputs": [
    {
     "name": "stdout",
     "output_type": "stream",
     "text": [
      "[1, 2, 5, 7, 9]\n"
     ]
    }
   ],
   "source": [
    "# Sort listing the elements of a list.\n",
    "def sort_list(numbers):\n",
    "    sorted_numbers = sorted(numbers)\n",
    "    return sorted_numbers\n",
    "\n",
    "numbers = [5, 2, 9, 1, 7]\n",
    "sorted_numbers = sort_list(numbers)\n",
    "print(sorted_numbers)"
   ]
  },
  {
   "cell_type": "markdown",
   "id": "2e86cac2",
   "metadata": {},
   "source": [
    "# Q 10: Implement a function to find the sum of all numbers in a list."
   ]
  },
  {
   "cell_type": "code",
   "execution_count": 120,
   "id": "a844695a",
   "metadata": {},
   "outputs": [
    {
     "name": "stdout",
     "output_type": "stream",
     "text": [
      "148\n"
     ]
    }
   ],
   "source": [
    "# sum of all numbers in the list.\n",
    "def sum(numbers):\n",
    "    total = 0\n",
    "    for x in numbers:\n",
    "        total += x\n",
    "    return total\n",
    "print(sum((10, 11, 45, 28, 1, 53)))"
   ]
  },
  {
   "cell_type": "markdown",
   "id": "827cd4e0",
   "metadata": {},
   "source": [
    "# Q 11: Write a program to find the common elements between two lists."
   ]
  },
  {
   "cell_type": "code",
   "execution_count": 140,
   "id": "a238d5bd",
   "metadata": {},
   "outputs": [
    {
     "name": "stdout",
     "output_type": "stream",
     "text": [
      "The common elements in the two lists are: \n",
      "[10, 5]\n"
     ]
    }
   ],
   "source": [
    "# Find the common elements in the given list.\n",
    "def common_element(a, b):\n",
    "    result = [i for i in a if i in b]\n",
    "    return result\n",
    " \n",
    "a = [10, 2, 3, 4, 5]\n",
    "b = [5, 6, 7, 8, 10]\n",
    " \n",
    "print(\"The common elements in the two lists are: \")\n",
    "print(common_element(a, b))"
   ]
  },
  {
   "cell_type": "markdown",
   "id": "f96f483d",
   "metadata": {},
   "source": [
    "# Q 12: Implement a function to check if a given string is an anagram of another string."
   ]
  },
  {
   "cell_type": "code",
   "execution_count": 126,
   "id": "21c6ace3",
   "metadata": {},
   "outputs": [
    {
     "name": "stdout",
     "output_type": "stream",
     "text": [
      "Listen and Silent are anagrams.\n"
     ]
    }
   ],
   "source": [
    "# Function to check anagram.\n",
    "\n",
    "def is_anagram(str1, str2):\n",
    "    # Remove whitespace and convert strings to lowercase\n",
    "    str1 = str1.replace(\" \", \"\").lower()\n",
    "    str2 = str2.replace(\" \", \"\").lower()\n",
    "    \n",
    "    # Check if the sorted characters of both strings are the same\n",
    "    return sorted(str1) == sorted(str2)\n",
    "\n",
    "string1 = \"Listen\"\n",
    "string2 = \"Silent\"\n",
    "\n",
    "if is_anagram(string1, string2):\n",
    "    print(f\"{string1} and {string2} are anagrams.\")\n",
    "else:\n",
    "    print(f\"{string1} and {string2} are not anagrams.\")\n"
   ]
  },
  {
   "cell_type": "markdown",
   "id": "6160e421",
   "metadata": {},
   "source": [
    "# Q 13: Write a Python program to generate all permutations of a given string."
   ]
  },
  {
   "cell_type": "code",
   "execution_count": 152,
   "id": "efa57918",
   "metadata": {},
   "outputs": [
    {
     "name": "stdout",
     "output_type": "stream",
     "text": [
      "abc\n",
      "acb\n",
      "bac\n",
      "bca\n",
      "cab\n",
      "cba\n"
     ]
    }
   ],
   "source": [
    "def generate_permutations(string):\n",
    "    # Base case: if the string is empty or has only one character,\n",
    "    # return the string itself as the only permutation\n",
    "    if len(string) <= 1:\n",
    "        return [string]\n",
    "\n",
    "    # List to store permutations\n",
    "    permutations = []\n",
    "\n",
    "    # Iterate through each character in the string\n",
    "    for i in range(len(string)):\n",
    "        # Choose the current character as the first character\n",
    "        # and recursively generate permutations for the remaining characters\n",
    "        first_char = string[i]\n",
    "        remaining_chars = string[:i] + string[i+1:]\n",
    "        sub_permutations = generate_permutations(remaining_chars)\n",
    "\n",
    "        # Append the current character to each sub-permutation\n",
    "        for sub_permutation in sub_permutations:\n",
    "            permutations.append(first_char + sub_permutation)\n",
    "\n",
    "    return permutations\n",
    "\n",
    "string = \"abc\"\n",
    "permutations = generate_permutations(string)\n",
    "for perm in permutations:\n",
    "    print(perm)\n"
   ]
  },
  {
   "cell_type": "markdown",
   "id": "31700119",
   "metadata": {},
   "source": [
    "# Q 14: Implement a function to calculate the Fibonacci sequence up to a given number of terms."
   ]
  },
  {
   "cell_type": "code",
   "execution_count": 150,
   "id": "cecca7fa",
   "metadata": {},
   "outputs": [
    {
     "name": "stdout",
     "output_type": "stream",
     "text": [
      "[0, 1, 1, 2, 3, 5, 8, 13, 21, 34, 55, 89, 144, 233, 377]\n"
     ]
    }
   ],
   "source": [
    "def fibonacci_sequence(n):\n",
    "    sequence = [0, 1]  # Initialize the sequence with the first two terms\n",
    "\n",
    "    # Calculate the Fibonacci sequence up to n terms\n",
    "    while len(sequence) < n:\n",
    "        next_term = sequence[-1] + sequence[-2]\n",
    "        sequence.append(next_term)\n",
    "\n",
    "    return sequence\n",
    "\n",
    "num_terms = 15\n",
    "print(fibonacci_sequence(num_terms))\n"
   ]
  },
  {
   "cell_type": "markdown",
   "id": "52503d89",
   "metadata": {},
   "source": [
    "# Q 15: Write a program to find the median of a list of numbers."
   ]
  },
  {
   "cell_type": "code",
   "execution_count": 264,
   "id": "85eb9c79",
   "metadata": {},
   "outputs": [
    {
     "name": "stdout",
     "output_type": "stream",
     "text": [
      "Median :  7\n"
     ]
    }
   ],
   "source": [
    "# Funtion to find median of given list.\n",
    "def find_median(numbers):\n",
    "    sorted_numbers = sorted(numbers)\n",
    "    n = len(sorted_numbers)\n",
    "\n",
    "    if n % 2 == 0:\n",
    "        # For even number of elements, average the middle two elements\n",
    "        middle_index_1 = n // 2 - 1\n",
    "        middle_index_2 = n // 2\n",
    "        median = (sorted_numbers[middle_index_1] + sorted_numbers[middle_index_2]) / 2\n",
    "    else:\n",
    "        # For odd number of elements, take the middle element\n",
    "        middle_index = n // 2\n",
    "        median = sorted_numbers[middle_index]\n",
    "\n",
    "    return median\n",
    "\n",
    "number_list = [5, 10, 13, 1, 7]\n",
    "print(\"Median : \",find_median(number_list))\n"
   ]
  },
  {
   "cell_type": "markdown",
   "id": "5e88ade5",
   "metadata": {},
   "source": [
    "# Q 16: Implement a function to check if a given list is sorted in non-decreasing order."
   ]
  },
  {
   "cell_type": "code",
   "execution_count": 139,
   "id": "873039f0",
   "metadata": {},
   "outputs": [
    {
     "name": "stdout",
     "output_type": "stream",
     "text": [
      "The list is not sorted.\n"
     ]
    }
   ],
   "source": [
    "def is_sorted(numbers):\n",
    "    n = len(numbers)\n",
    "\n",
    "    for i in range(1, n):\n",
    "        if numbers[i] < numbers[i-1]:\n",
    "            return False\n",
    "\n",
    "    return True\n",
    "\n",
    "number_list = [1, 14, 5, 7, 9]\n",
    "if is_sorted(number_list):\n",
    "    print(\"The list is sorted.\")\n",
    "else:\n",
    "    print(\"The list is not sorted.\")\n"
   ]
  },
  {
   "cell_type": "markdown",
   "id": "3bb957de",
   "metadata": {},
   "source": [
    "# Q 17: Write a Python program to find the intersection of two lists."
   ]
  },
  {
   "cell_type": "code",
   "execution_count": 147,
   "id": "db99656e",
   "metadata": {},
   "outputs": [
    {
     "name": "stdout",
     "output_type": "stream",
     "text": [
      "[3, 4, 5]\n"
     ]
    }
   ],
   "source": [
    "def find_intersection(list1, list2):\n",
    "    set1 = set(list1)\n",
    "    set2 = set(list2)\n",
    "    intersection = set1.intersection(set2)\n",
    "    return list(intersection)\n",
    "\n",
    "list1 = [1, 2, 3, 4, 5]\n",
    "list2 = [3, 4, 5, 6, 7]\n",
    "print(find_intersection(list1, list2))\n"
   ]
  },
  {
   "cell_type": "markdown",
   "id": "7605423e",
   "metadata": {},
   "source": [
    "# Q 18: Implement a function to find the maximum subarray sum in a given list."
   ]
  },
  {
   "cell_type": "code",
   "execution_count": 154,
   "id": "b36dd435",
   "metadata": {},
   "outputs": [
    {
     "name": "stdout",
     "output_type": "stream",
     "text": [
      "11\n"
     ]
    }
   ],
   "source": [
    "def max_subarray_sum(numbers):\n",
    "    if not numbers:\n",
    "        return 0\n",
    "\n",
    "    current_sum = max_sum = numbers[0]\n",
    "\n",
    "    for num in numbers[1:]:\n",
    "        current_sum = max(num, current_sum + num)\n",
    "        max_sum = max(max_sum, current_sum)\n",
    "\n",
    "    return max_sum\n",
    "number_list = [-2, 1, -7, 4, -3, 2, 8, -5, 4]\n",
    "print(max_subarray_sum(number_list))\n"
   ]
  },
  {
   "cell_type": "markdown",
   "id": "902210db",
   "metadata": {},
   "source": [
    "# Q 19: Write a program to remove all vowels from a given string."
   ]
  },
  {
   "cell_type": "code",
   "execution_count": 158,
   "id": "039a8b27",
   "metadata": {},
   "outputs": [
    {
     "name": "stdout",
     "output_type": "stream",
     "text": [
      "Type your sting : Hello world\n",
      "Hll wrld\n"
     ]
    }
   ],
   "source": [
    "def remove_vowels(string):\n",
    "    vowels = \"aeiouAEIOU\"\n",
    "    result = \"\"\n",
    "\n",
    "    for char in string:\n",
    "        if char not in vowels:\n",
    "            result += char\n",
    "\n",
    "    return result\n",
    "\n",
    "input_string = str(input(\"Type your sting : \"))\n",
    "print(remove_vowels(input_string))\n"
   ]
  },
  {
   "cell_type": "markdown",
   "id": "fc30ccbd",
   "metadata": {},
   "source": [
    "# Q 20: Implement a function to reverse the order of words in a given sentence."
   ]
  },
  {
   "cell_type": "code",
   "execution_count": 162,
   "id": "3720aef3",
   "metadata": {},
   "outputs": [
    {
     "name": "stdout",
     "output_type": "stream",
     "text": [
      "Type any sentence : This is the example of a reverse fuction\n",
      "---> fuction reverse a of example the is This\n"
     ]
    }
   ],
   "source": [
    "# Function to reverse the sentence.\n",
    "def reverse_words(sentence):\n",
    "    words = sentence.split()\n",
    "    reversed_sentence = \" \".join(words[::-1])\n",
    "    return reversed_sentence\n",
    "\n",
    "input_sentence = str(input(\"Type any sentence : \"))\n",
    "print(\"--->\",reverse_words(input_sentence))"
   ]
  },
  {
   "cell_type": "markdown",
   "id": "1260e702",
   "metadata": {},
   "source": [
    "## Q 21: Question 21 is same as question no 12"
   ]
  },
  {
   "cell_type": "markdown",
   "id": "11256b4e",
   "metadata": {},
   "source": [
    "# Q 22: Implement a function to find the first non-repeating character in a string."
   ]
  },
  {
   "cell_type": "code",
   "execution_count": 163,
   "id": "c7599b4c",
   "metadata": {},
   "outputs": [
    {
     "name": "stdout",
     "output_type": "stream",
     "text": [
      "Type your sting : example\n",
      "The first non-repeating character in 'example' is 'x'.\n"
     ]
    }
   ],
   "source": [
    "def find_first_non_repeating_char(string):\n",
    "    char_count = {}\n",
    "    \n",
    "    # Count the frequency of each character\n",
    "    for char in string:\n",
    "        if char in char_count:\n",
    "            char_count[char] += 1\n",
    "        else:\n",
    "            char_count[char] = 1\n",
    "    \n",
    "    # Find the first non-repeating character\n",
    "    for char in string:\n",
    "        if char_count[char] == 1:\n",
    "            return char\n",
    "    \n",
    "    # If no non-repeating character found, return None\n",
    "    return None\n",
    "\n",
    "# Example usage\n",
    "input_string = str(input(\"Type your sting : \"))\n",
    "result = find_first_non_repeating_char(input_string)\n",
    "if result is not None:\n",
    "    print(f\"The first non-repeating character in '{input_string}' is '{result}'.\")\n",
    "else:\n",
    "    print(\"No non-repeating character found.\")\n"
   ]
  },
  {
   "cell_type": "markdown",
   "id": "3cedb5b0",
   "metadata": {},
   "source": [
    "# Q 23: Write a program to find the prime factors of a given number."
   ]
  },
  {
   "cell_type": "code",
   "execution_count": 169,
   "id": "2433796a",
   "metadata": {},
   "outputs": [
    {
     "name": "stdout",
     "output_type": "stream",
     "text": [
      "your number : 108\n",
      "Prime factors of 108 is :  [2, 2, 3, 3, 3]\n"
     ]
    }
   ],
   "source": [
    "def find_prime_factors(number):\n",
    "    factors = []\n",
    "    divisor = 2\n",
    "\n",
    "    while divisor <= number:\n",
    "        if number % divisor == 0:\n",
    "            factors.append(divisor)\n",
    "            number = number / divisor\n",
    "        else:\n",
    "            divisor += 1\n",
    "\n",
    "    return factors\n",
    "\n",
    "\n",
    "number = int(input(\"your number : \"))\n",
    "prime_factors = find_prime_factors(number)\n",
    "print(f\"Prime factors of {number} is : \" ,find_prime_factors(number))\n"
   ]
  },
  {
   "cell_type": "markdown",
   "id": "b370e96e",
   "metadata": {},
   "source": [
    "# Q 24: Implement a function to check if a given number is a power of two."
   ]
  },
  {
   "cell_type": "code",
   "execution_count": 172,
   "id": "b7951d5e",
   "metadata": {},
   "outputs": [
    {
     "name": "stdout",
     "output_type": "stream",
     "text": [
      "Give any number : 82\n",
      "82 is not a power of two.\n"
     ]
    }
   ],
   "source": [
    "def is_power_of_two(number):\n",
    "    if number <= 0:\n",
    "        return False\n",
    "    \n",
    "    # Using bitwise AND to check if only one bit is set\n",
    "    return number & (number - 1) == 0\n",
    "\n",
    "\n",
    "num = int(input('Give any number : '))\n",
    "if is_power_of_two(num):\n",
    "    print(f\"{num} is a power of two.\")\n",
    "else:\n",
    "    print(f\"{num} is not a power of two.\")\n"
   ]
  },
  {
   "cell_type": "markdown",
   "id": "f3952957",
   "metadata": {},
   "source": [
    "# Q 25: Write a Python program to merge two sorted lists into a single sorted list."
   ]
  },
  {
   "cell_type": "code",
   "execution_count": 174,
   "id": "a0f64d34",
   "metadata": {},
   "outputs": [
    {
     "name": "stdout",
     "output_type": "stream",
     "text": [
      "[1, 2, 3, 4, 5, 6, 7, 8, 9, 10]\n"
     ]
    }
   ],
   "source": [
    "def merge_sorted_lists(list1, list2):\n",
    "    merged_list = []\n",
    "    i = j = 0\n",
    "    len1 = len(list1)\n",
    "    len2 = len(list2)\n",
    "\n",
    "    # Merge the two lists by comparing elements\n",
    "    while i < len1 and j < len2:\n",
    "        if list1[i] <= list2[j]:\n",
    "            merged_list.append(list1[i])\n",
    "            i += 1\n",
    "        else:\n",
    "            merged_list.append(list2[j])\n",
    "            j += 1\n",
    "\n",
    "    # Add any remaining elements from the first list\n",
    "    while i < len1:\n",
    "        merged_list.append(list1[i])\n",
    "        i += 1\n",
    "\n",
    "    # Add any remaining elements from the second list\n",
    "    while j < len2:\n",
    "        merged_list.append(list2[j])\n",
    "        j += 1\n",
    "\n",
    "    return merged_list\n",
    "\n",
    "# Driver code\n",
    "list1 = [1, 3, 5, 7, 9]\n",
    "list2 = [2, 4, 6, 8, 10]\n",
    "print(merge_sorted_lists(list1, list2))\n"
   ]
  },
  {
   "cell_type": "markdown",
   "id": "522a2702",
   "metadata": {},
   "source": [
    "# Q 26: Implement a function to find the mode of a list of numbers."
   ]
  },
  {
   "cell_type": "code",
   "execution_count": 265,
   "id": "4d31af1b",
   "metadata": {},
   "outputs": [
    {
     "name": "stdout",
     "output_type": "stream",
     "text": [
      "Mode :  [8]\n"
     ]
    }
   ],
   "source": [
    "def find_mode(numbers):\n",
    "    mode = []\n",
    "    max_count = 0\n",
    "\n",
    "    # Create a dictionary to count the frequency of each number\n",
    "    count_dict = {}\n",
    "\n",
    "    for num in numbers:\n",
    "        if num in count_dict:\n",
    "            count_dict[num] += 1\n",
    "        else:\n",
    "            count_dict[num] = 1\n",
    "\n",
    "        # Update the maximum frequency\n",
    "        if count_dict[num] > max_count:\n",
    "            max_count = count_dict[num]\n",
    "\n",
    "    # Find all numbers with the maximum frequency\n",
    "    for num, count in count_dict.items():\n",
    "        if count == max_count:\n",
    "            mode.append(num)\n",
    "\n",
    "    return mode\n",
    "\n",
    "\n",
    "number_list = [1, 2, 3, 2, 8, 8, 8, 4, 4, 5, 5, 6]\n",
    "print('Mode : ',find_mode(number_list))\n"
   ]
  },
  {
   "cell_type": "markdown",
   "id": "4552e2d7",
   "metadata": {},
   "source": [
    "# Q 27: Write a program to find the greatest common divisor (GCD) of two numbers."
   ]
  },
  {
   "cell_type": "code",
   "execution_count": 182,
   "id": "c6656dd4",
   "metadata": {},
   "outputs": [
    {
     "name": "stdout",
     "output_type": "stream",
     "text": [
      "Give your first no :48\n",
      "Give your second no :112\n",
      "Common devisor of both given no is :  16\n"
     ]
    }
   ],
   "source": [
    "# Fuction to find great common devisor.\n",
    "def find_gcd(a, b):\n",
    "    # Ensure a is greater than or equal to b\n",
    "    if a < b:\n",
    "        a, b = b, a\n",
    "\n",
    "    while b != 0:\n",
    "        remainder = a % b\n",
    "        a = b\n",
    "        b = remainder\n",
    "\n",
    "    return a\n",
    "\n",
    "num1 = int(input(\"Give your first no :\"))\n",
    "num2 = int(input(\"Give your second no :\"))\n",
    "print(\"Common devisor of both given no is : \", find_gcd(num1, num2))\n"
   ]
  },
  {
   "cell_type": "markdown",
   "id": "6e2786ae",
   "metadata": {},
   "source": [
    "# Q 28: Implement a function to calculate the square root of a given number."
   ]
  },
  {
   "cell_type": "code",
   "execution_count": 192,
   "id": "0a9f6c41",
   "metadata": {},
   "outputs": [
    {
     "name": "stdout",
     "output_type": "stream",
     "text": [
      "Enter your number : 226\n",
      "squre root 226 is :  15.033296378372949\n"
     ]
    }
   ],
   "source": [
    "def square_root(number, epsilon=1e-6):\n",
    "    if number < 0:\n",
    "        raise ValueError(\"Square root is undefined for negative numbers.\")\n",
    "\n",
    "    if number == 0:\n",
    "        return 0\n",
    "\n",
    "    # Initial guess\n",
    "    guess = number / 2\n",
    "\n",
    "    # Iterate until convergence\n",
    "    while abs(guess * guess - number) > epsilon:\n",
    "        guess = (guess + number / guess) / 2\n",
    "\n",
    "    return guess\n",
    "\n",
    "num = int(input(\"Enter your number : \"))\n",
    "sqrt = square_root(num)\n",
    "print(f\"squre root {num} is : \" ,square_root(num))\n"
   ]
  },
  {
   "cell_type": "markdown",
   "id": "20c626b5",
   "metadata": {},
   "source": [
    "# Q 29: Write a Python program to check if a given string is a valid palindrome ignoring non-alphanumeric characters."
   ]
  },
  {
   "cell_type": "code",
   "execution_count": 210,
   "id": "51b8a9e2",
   "metadata": {},
   "outputs": [
    {
     "name": "stdout",
     "output_type": "stream",
     "text": [
      "Your string : Did Hannah see bees? Hannah did.\n",
      "'Did Hannah see bees? Hannah did.' is a valid palindrome.\n"
     ]
    }
   ],
   "source": [
    "def is_palindrome(string):\n",
    "    # Function to check if a character is alphanumeric\n",
    "    def is_alphanumeric(char):\n",
    "        return char.isalpha() or char.isdigit()\n",
    "\n",
    "    # Clean the string by removing non-alphanumeric characters\n",
    "    cleaned_string = ''.join(char.lower() for char in string if is_alphanumeric(char))\n",
    "\n",
    "    # Check if the cleaned string is equal to its reverse\n",
    "    return cleaned_string == cleaned_string[::-1]\n",
    "\n",
    "\n",
    "input_string = str(input(\"Your string : \"))\n",
    "\n",
    "if is_palindrome(input_string):\n",
    "    print(f\"'{input_string}' is a valid palindrome.\")\n",
    "else:\n",
    "    print(f\"'{input_string}' is not a valid palindrome.\")\n"
   ]
  },
  {
   "cell_type": "markdown",
   "id": "d56eca04",
   "metadata": {},
   "source": [
    "# Q 30: Implement a function to find the minimum element in a rotated sorted list."
   ]
  },
  {
   "cell_type": "code",
   "execution_count": 215,
   "id": "21af9a2b",
   "metadata": {},
   "outputs": [
    {
     "name": "stdout",
     "output_type": "stream",
     "text": [
      "10\n"
     ]
    }
   ],
   "source": [
    "def find_minimum(nums):\n",
    "    left = 0\n",
    "    right = len(nums) - 1\n",
    "\n",
    "    while left < right:\n",
    "        mid = (left + right) // 2\n",
    "\n",
    "        if nums[mid] > nums[right]:\n",
    "            left = mid + 1\n",
    "        else:\n",
    "            right = mid\n",
    "\n",
    "    return nums[left]\n",
    "\n",
    "rotated_list = [40, 65, 61, 72, 10, 15, 22]\n",
    "print(find_minimum(rotated_list))\n"
   ]
  },
  {
   "cell_type": "markdown",
   "id": "25a56aab",
   "metadata": {},
   "source": [
    "# Q 31: Write a program to find the sum of all even numbers in a list."
   ]
  },
  {
   "cell_type": "code",
   "execution_count": 218,
   "id": "f1d85fb6",
   "metadata": {},
   "outputs": [
    {
     "name": "stdout",
     "output_type": "stream",
     "text": [
      "sum of all even no of this list :  174\n"
     ]
    }
   ],
   "source": [
    "# Function to add all even no persent in the list.\n",
    "def sum_of_evens(numbers):\n",
    "    even_sum = 0\n",
    "\n",
    "    for num in numbers:\n",
    "        if num % 2 == 0:\n",
    "            even_sum += num\n",
    "\n",
    "    return even_sum\n",
    "\n",
    "\n",
    "number_list = [11, 22, 33, 47, 55, 66, 70, 9, 6, 10]\n",
    "\n",
    "print(\"sum of all even no of this list : \" ,sum_of_evens(number_list))\n"
   ]
  },
  {
   "cell_type": "markdown",
   "id": "8d5e06b5",
   "metadata": {},
   "source": [
    "# Q 32: Implement a function to calculate the power of a number using recursion."
   ]
  },
  {
   "cell_type": "code",
   "execution_count": 223,
   "id": "6751fe96",
   "metadata": {},
   "outputs": [
    {
     "name": "stdout",
     "output_type": "stream",
     "text": [
      "81\n"
     ]
    }
   ],
   "source": [
    "def power(base, exponent):\n",
    "    if exponent == 0:\n",
    "        return 1\n",
    "    elif exponent > 0:\n",
    "        return base * power(base, exponent - 1)\n",
    "    else:\n",
    "        return 1 / power(base, -exponent)\n",
    "\n",
    "\n",
    "base = 3\n",
    "exponent = 4\n",
    "result = power(base, exponent)\n",
    "print(result)\n"
   ]
  },
  {
   "cell_type": "markdown",
   "id": "13731722",
   "metadata": {},
   "source": [
    "# Q 33. Write a Python program to remove duplicates from a list while preserving the order."
   ]
  },
  {
   "cell_type": "code",
   "execution_count": 235,
   "id": "2791aea9",
   "metadata": {},
   "outputs": [
    {
     "name": "stdout",
     "output_type": "stream",
     "text": [
      "[1, 2, 3, 14, 15, 16, 17, 18, 51, 88]\n"
     ]
    }
   ],
   "source": [
    "def remove_duplicates(input_list):\n",
    "    unique_list = []\n",
    "    seen = set()\n",
    "\n",
    "    for item in input_list:\n",
    "        if item not in seen:\n",
    "            seen.add(item)\n",
    "            unique_list.append(item)\n",
    "\n",
    "    return sorted(unique_list) # Preserving orders.\n",
    "\n",
    "\n",
    "my_list = [1, 2, 3, 2, 14, 14, 15, 16, 51, 88, 88,17, 1, 18]\n",
    "print(remove_duplicates((my_list)))"
   ]
  },
  {
   "cell_type": "markdown",
   "id": "20b152e3",
   "metadata": {},
   "source": [
    "# Q 34: Implement a function to find the longest common prefix among a list of strings."
   ]
  },
  {
   "cell_type": "code",
   "execution_count": 236,
   "id": "9e195887",
   "metadata": {},
   "outputs": [
    {
     "name": "stdout",
     "output_type": "stream",
     "text": [
      "fl\n"
     ]
    }
   ],
   "source": [
    "def longest_common_prefix(strings):\n",
    "    if not strings:\n",
    "        return \"\"\n",
    "\n",
    "    prefix = \"\"\n",
    "    min_length = min(len(string) for string in strings)\n",
    "\n",
    "    for i in range(min_length):\n",
    "        char = strings[0][i]\n",
    "        if all(string[i] == char for string in strings):\n",
    "            prefix += char\n",
    "        else:\n",
    "            break\n",
    "\n",
    "    return prefix\n",
    "\n",
    "string_list = [\"flower\", \"flow\", \"flight, float\"]\n",
    "common_prefix = longest_common_prefix(string_list)\n",
    "print(common_prefix)\n"
   ]
  },
  {
   "cell_type": "markdown",
   "id": "381efd16",
   "metadata": {},
   "source": [
    "# Q 35: Write a program to check if a given number is a perfect square."
   ]
  },
  {
   "cell_type": "code",
   "execution_count": 240,
   "id": "bd035210",
   "metadata": {},
   "outputs": [
    {
     "name": "stdout",
     "output_type": "stream",
     "text": [
      "Input Number : 16\n",
      "16 is a perfect square.\n"
     ]
    }
   ],
   "source": [
    "def is_perfect_square(number):\n",
    "    if number < 0:\n",
    "        return False\n",
    "\n",
    "    root = int(number ** 0.5)\n",
    "\n",
    "    return root * root == number\n",
    "\n",
    "\n",
    "num = int(input(\"Input Number : \"))\n",
    "if is_perfect_square(num):\n",
    "    print(f\"{num} is a perfect square.\")\n",
    "else:\n",
    "    print(f\"{num} is not a perfect square.\")\n"
   ]
  },
  {
   "cell_type": "markdown",
   "id": "89c358db",
   "metadata": {},
   "source": [
    "# Q 36: Implement a function to calculate the product of all elements in a list."
   ]
  },
  {
   "cell_type": "code",
   "execution_count": 243,
   "id": "94c4adfc",
   "metadata": {},
   "outputs": [
    {
     "name": "stdout",
     "output_type": "stream",
     "text": [
      "2860\n"
     ]
    }
   ],
   "source": [
    "def calculate_product(numbers):\n",
    "    if not numbers:\n",
    "        return 0\n",
    "\n",
    "    product = 1\n",
    "\n",
    "    for num in numbers:\n",
    "        product *= num\n",
    "\n",
    "    return product\n",
    "\n",
    "\n",
    "number_list = [1, 11, 13, 4, 5]\n",
    "print(calculate_product(number_list))\n"
   ]
  },
  {
   "cell_type": "markdown",
   "id": "ff43b5e4",
   "metadata": {},
   "source": [
    "# Q 37: Write a Python program to reverse the order of words in a sentence while preserving the word order."
   ]
  },
  {
   "cell_type": "code",
   "execution_count": 245,
   "id": "05f6b352",
   "metadata": {},
   "outputs": [
    {
     "name": "stdout",
     "output_type": "stream",
     "text": [
      "Write your sentence : how are you today ?\n",
      "? today you are how\n"
     ]
    }
   ],
   "source": [
    "def reverse_words(sentence):\n",
    "    words = sentence.split()\n",
    "    reversed_sentence = ' '.join(reversed(words))\n",
    "    return reversed_sentence\n",
    "\n",
    "\n",
    "input_sentence = str(input(\"Write your sentence : \"))\n",
    "print(reverse_words(input_sentence))\n"
   ]
  },
  {
   "cell_type": "markdown",
   "id": "3c51b548",
   "metadata": {},
   "source": [
    "# Q 38: Implement a function to find the missing number in a given list of consecutive numbers."
   ]
  },
  {
   "cell_type": "code",
   "execution_count": 259,
   "id": "c95322af",
   "metadata": {},
   "outputs": [
    {
     "name": "stdout",
     "output_type": "stream",
     "text": [
      "[2, 4, 6, 8, 10, 11]\n"
     ]
    }
   ],
   "source": [
    "def find_missing_numbers(numbers):\n",
    "    missing_numbers = []\n",
    "    current_num = numbers[0]\n",
    "\n",
    "    for num in numbers:\n",
    "        while current_num < num:\n",
    "            missing_numbers.append(current_num)\n",
    "            current_num += 1\n",
    "        current_num += 1\n",
    "\n",
    "    return missing_numbers\n",
    "\n",
    "number_list = [1, 3, 5, 7, 9, 12]\n",
    "missing_numbers = find_missing_numbers(number_list)\n",
    "print(missing_numbers)\n"
   ]
  },
  {
   "cell_type": "markdown",
   "id": "59a7868a",
   "metadata": {},
   "source": [
    "# Q 39: Write a program to find the sum of digits of a given number."
   ]
  },
  {
   "cell_type": "code",
   "execution_count": 261,
   "id": "c567bec5",
   "metadata": {},
   "outputs": [
    {
     "name": "stdout",
     "output_type": "stream",
     "text": [
      "Give Number : 12475\n",
      "Sum of the give number :  19\n"
     ]
    }
   ],
   "source": [
    "# Function to add all the digits of a given number.\n",
    "\n",
    "def sum_of_digits(number):\n",
    "    sum = 0\n",
    "\n",
    "    # Iterate through each digit of the number\n",
    "    while number != 0:\n",
    "        digit = number % 10\n",
    "        sum += digit\n",
    "        number //= 10\n",
    "\n",
    "    return sum\n",
    "\n",
    "num = int(input(\"Give Number : \"))\n",
    "print('Sum of the give number : ',sum_of_digits(num))\n"
   ]
  },
  {
   "cell_type": "markdown",
   "id": "a7a5c9f5",
   "metadata": {},
   "source": [
    "# Q 40: Implement a function to check if a given string is a valid palindrome considering case sensitivity."
   ]
  },
  {
   "cell_type": "code",
   "execution_count": 268,
   "id": "28521ce9",
   "metadata": {},
   "outputs": [
    {
     "name": "stdout",
     "output_type": "stream",
     "text": [
      "'leveL' is a valid palindrome.\n"
     ]
    }
   ],
   "source": [
    "def is_palindrome(string):\n",
    "    # Remove non-alphanumeric characters and convert to lowercase\n",
    "    cleaned_string = ''.join(char.lower() for char in string if char.isalnum())\n",
    "\n",
    "    # Reverse the cleaned string and compare with the original cleaned string\n",
    "    reversed_string = cleaned_string[::-1]\n",
    "    return cleaned_string == reversed_string\n",
    "\n",
    "# Example usage\n",
    "input_string = \"leveL\"\n",
    "if is_palindrome(input_string):\n",
    "    print(f\"'{input_string}' is a valid palindrome.\")\n",
    "else:\n",
    "    print(f\"'{input_string}' is not a valid palindrome.\")\n"
   ]
  },
  {
   "cell_type": "markdown",
   "id": "12cc9cb7",
   "metadata": {},
   "source": [
    "# Q 41: Write a Python program to find the smallest missing positive integer in a list."
   ]
  },
  {
   "cell_type": "code",
   "execution_count": 270,
   "id": "7d050c6f",
   "metadata": {},
   "outputs": [
    {
     "name": "stdout",
     "output_type": "stream",
     "text": [
      "2\n"
     ]
    }
   ],
   "source": [
    "# Fuction to find the smallest positive missing numbers.\n",
    "\n",
    "\n",
    "def find_smallest_missing_positive(numbers):\n",
    "    # Separate positive numbers\n",
    "    positive_numbers = [num for num in numbers if num > 0]\n",
    "\n",
    "    # Create a set for efficient membership check\n",
    "    number_set = set(positive_numbers)\n",
    "\n",
    "    # Find the smallest missing positive integer\n",
    "    smallest_missing = 1\n",
    "    while smallest_missing in number_set:\n",
    "        smallest_missing += 1\n",
    "\n",
    "    return smallest_missing\n",
    "\n",
    "# Driver code\n",
    "number_list = [3, 4, -1, 1, 5, 6, -2, 8]\n",
    "smallest_missing = find_smallest_missing_positive(number_list)\n",
    "print(smallest_missing)\n"
   ]
  },
  {
   "cell_type": "markdown",
   "id": "4397dba0",
   "metadata": {},
   "source": [
    "# Q 42: Implement a function to find the longest palindrome substring in a given string."
   ]
  },
  {
   "cell_type": "code",
   "execution_count": 273,
   "id": "dc675df9",
   "metadata": {},
   "outputs": [
    {
     "name": "stdout",
     "output_type": "stream",
     "text": [
      "ada\n"
     ]
    }
   ],
   "source": [
    "def longest_palindrome(s):\n",
    "    if not s:\n",
    "        return \"\"\n",
    "\n",
    "    longest = \"\"\n",
    "    for i in range(len(s)):\n",
    "        # Check for odd-length palindromes\n",
    "        odd_palindrome = expand_from_center(s, i, i)\n",
    "        if len(odd_palindrome) > len(longest):\n",
    "            longest = odd_palindrome\n",
    "\n",
    "        # Check for even-length palindromes\n",
    "        even_palindrome = expand_from_center(s, i, i + 1)\n",
    "        if len(even_palindrome) > len(longest):\n",
    "            longest = even_palindrome\n",
    "\n",
    "    return longest\n",
    "\n",
    "def expand_from_center(s, left, right):\n",
    "    while left >= 0 and right < len(s) and s[left] == s[right]:\n",
    "        left -= 1\n",
    "        right += 1\n",
    "\n",
    "    return s[left + 1 : right]\n",
    "\n",
    "input_string = \"Madam\"\n",
    "longest_palindrome_substring = longest_palindrome(input_string)\n",
    "print(longest_palindrome_substring)\n"
   ]
  },
  {
   "cell_type": "markdown",
   "id": "4c5af295",
   "metadata": {},
   "source": [
    "## Question no 43 is same as question no 4."
   ]
  },
  {
   "cell_type": "markdown",
   "id": "92204ae8",
   "metadata": {},
   "source": [
    "# Q 44: Implement a function to check if a given number is a perfect number."
   ]
  },
  {
   "cell_type": "code",
   "execution_count": 277,
   "id": "77abcd7b",
   "metadata": {},
   "outputs": [
    {
     "name": "stdout",
     "output_type": "stream",
     "text": [
      "Enter Number : 28\n",
      "28 is a perfect number.\n"
     ]
    }
   ],
   "source": [
    "# fuction to identify the given number is perfect number or not.\n",
    "def is_perfect_number(number):\n",
    "    if number <= 0:\n",
    "        return False\n",
    "\n",
    "    divisors_sum = 0\n",
    "\n",
    "    # Find the divisors and calculate their sum\n",
    "    for i in range(1, number):\n",
    "        if number % i == 0:\n",
    "            divisors_sum += i\n",
    "\n",
    "    return divisors_sum == number\n",
    "\n",
    "num = int(input(\"Enter Number : \"))\n",
    "if is_perfect_number(num):\n",
    "    print(f\"{num} is a perfect number.\")\n",
    "else:\n",
    "    print(f\"{num} is not a perfect number.\")\n"
   ]
  },
  {
   "cell_type": "markdown",
   "id": "7dc73a9b",
   "metadata": {},
   "source": [
    "# Q 45: Write a Python program to remove all duplicates from a string."
   ]
  },
  {
   "cell_type": "code",
   "execution_count": 278,
   "id": "0f6a7ed5",
   "metadata": {},
   "outputs": [
    {
     "name": "stdout",
     "output_type": "stream",
     "text": [
      "Type your sentence : hello world\n",
      "helo wrd\n"
     ]
    }
   ],
   "source": [
    "def remove_duplicates(string):\n",
    "    # Create a set to store unique characters\n",
    "    unique_chars = set()\n",
    "\n",
    "    # Iterate through the string and add non-duplicate characters to the set\n",
    "    result = ''\n",
    "    for char in string:\n",
    "        if char not in unique_chars:\n",
    "            unique_chars.add(char)\n",
    "            result += char\n",
    "\n",
    "    return result\n",
    "\n",
    "\n",
    "input_string = str(input(\"Type your sentence : \"))\n",
    "print(remove_duplicates(input_string))\n"
   ]
  },
  {
   "cell_type": "markdown",
   "id": "32fd0729",
   "metadata": {},
   "source": [
    "# Q 46: Implement a function to find the first missing positive"
   ]
  },
  {
   "cell_type": "code",
   "execution_count": 279,
   "id": "6e8f9811",
   "metadata": {},
   "outputs": [
    {
     "name": "stdout",
     "output_type": "stream",
     "text": [
      "6\n"
     ]
    }
   ],
   "source": [
    "def find_first_missing_positive(numbers):\n",
    "    n = len(numbers)\n",
    "\n",
    "    # Move all positive numbers to their correct positions\n",
    "    i = 0\n",
    "    while i < n:\n",
    "        # Check if the number is within the range [1, n]\n",
    "        if 1 <= numbers[i] <= n and numbers[i] != numbers[numbers[i] - 1]:\n",
    "            # Swap the number to its correct position\n",
    "            numbers[numbers[i] - 1], numbers[i] = numbers[i], numbers[numbers[i] - 1]\n",
    "        else:\n",
    "            i += 1\n",
    "\n",
    "    # Find the first missing positive number\n",
    "    for i in range(n):\n",
    "        if numbers[i] != i + 1:\n",
    "            return i + 1\n",
    "\n",
    "    # If all numbers are present, the missing positive is n + 1\n",
    "    return n + 1\n",
    "\n",
    "number_list = [3, 2, 4, -1, 1, 5, 7, 9]\n",
    "first_missing_positive = find_first_missing_positive(number_list)\n",
    "print(first_missing_positive)\n"
   ]
  },
  {
   "cell_type": "code",
   "execution_count": null,
   "id": "2d85a936",
   "metadata": {},
   "outputs": [],
   "source": []
  }
 ],
 "metadata": {
  "kernelspec": {
   "display_name": "Python 3 (ipykernel)",
   "language": "python",
   "name": "python3"
  },
  "language_info": {
   "codemirror_mode": {
    "name": "ipython",
    "version": 3
   },
   "file_extension": ".py",
   "mimetype": "text/x-python",
   "name": "python",
   "nbconvert_exporter": "python",
   "pygments_lexer": "ipython3",
   "version": "3.9.13"
  }
 },
 "nbformat": 4,
 "nbformat_minor": 5
}
